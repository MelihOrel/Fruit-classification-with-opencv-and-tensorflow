{
 "cells": [
  {
   "cell_type": "code",
   "execution_count": 1,
   "metadata": {},
   "outputs": [],
   "source": [
    "import cv2\n",
    "import numpy as np\n",
    "import os \n",
    "import json \n",
    "import pandas as pd\n",
    "import matplotlib.pyplot as plt"
   ]
  },
  {
   "cell_type": "code",
   "execution_count": 2,
   "metadata": {},
   "outputs": [],
   "source": [
    "data = 'data'"
   ]
  },
  {
   "cell_type": "code",
   "execution_count": 3,
   "metadata": {},
   "outputs": [],
   "source": [
    "class_list = os.listdir(data)\n",
    "class_count= len(data)"
   ]
  },
  {
   "cell_type": "code",
   "execution_count": 4,
   "metadata": {},
   "outputs": [
    {
     "data": {
      "text/plain": [
       "['0', '1', '2', '3']"
      ]
     },
     "execution_count": 4,
     "metadata": {},
     "output_type": "execute_result"
    }
   ],
   "source": [
    "class_list\n",
    "#['Apple', 'Banana', 'Lemon', 'Stawberry']"
   ]
  },
  {
   "cell_type": "code",
   "execution_count": 5,
   "metadata": {},
   "outputs": [],
   "source": [
    "images = []  # list of images\n",
    "class_no = [] # list of classes"
   ]
  },
  {
   "cell_type": "code",
   "execution_count": 6,
   "metadata": {},
   "outputs": [
    {
     "name": "stdout",
     "output_type": "stream",
     "text": [
      "0 Completed....\n",
      "1 Completed....\n",
      "2 Completed....\n",
      "3 Completed....\n"
     ]
    }
   ],
   "source": [
    "for x in range (0,class_count):\n",
    "    myPiclist= os.listdir(data+\"/\"+str(x))\n",
    "    for y in myPiclist:\n",
    "        img = cv2.imread(data+\"/\"+str(x)+\"/\"+y)\n",
    "        img = cv2.resize(img,(32,32))\n",
    "        images.append(img)\n",
    "        class_no.append(x)\n",
    "    \n",
    "    print(x,\"Completed....\")"
   ]
  },
  {
   "cell_type": "code",
   "execution_count": 7,
   "metadata": {},
   "outputs": [],
   "source": [
    "images = np.array(images)\n",
    "class_no = np.array(class_no)"
   ]
  },
  {
   "cell_type": "markdown",
   "metadata": {},
   "source": [
    "# Train Test Split"
   ]
  },
  {
   "cell_type": "code",
   "execution_count": 8,
   "metadata": {},
   "outputs": [],
   "source": [
    "from sklearn.model_selection import train_test_split"
   ]
  },
  {
   "cell_type": "code",
   "execution_count": null,
   "metadata": {},
   "outputs": [],
   "source": [
    "help(train_test_split) # more info about spliting"
   ]
  },
  {
   "cell_type": "code",
   "execution_count": 10,
   "metadata": {},
   "outputs": [],
   "source": [
    "X_train,X_test,y_train,y_test = train_test_split(images,class_no,test_size=0.2)\n",
    "X_train,X_validation,y_train,y_validation = train_test_split(X_train,y_train,test_size=0.2)"
   ]
  },
  {
   "cell_type": "code",
   "execution_count": 11,
   "metadata": {},
   "outputs": [
    {
     "name": "stdout",
     "output_type": "stream",
     "text": [
      "(3309, 32, 32, 3)\n",
      "(1035, 32, 32, 3)\n",
      "(828, 32, 32, 3)\n"
     ]
    }
   ],
   "source": [
    "print(X_train.shape) # 3309 train images\n",
    "print(X_test.shape)  # 1035 test images             # rgb color channel\n",
    "print(X_validation.shape) # 828 # validation images"
   ]
  },
  {
   "cell_type": "code",
   "execution_count": 13,
   "metadata": {},
   "outputs": [],
   "source": [
    "# Preprossessing function\n",
    "def prepos(img):\n",
    "    img = cv2.cvtColor(img,cv2.COLOR_BGR2GRAY)\n",
    "    img = cv2.equalizeHist(img)\n",
    "    img = img/255\n",
    "    \n",
    "    return img"
   ]
  },
  {
   "cell_type": "code",
   "execution_count": 14,
   "metadata": {},
   "outputs": [],
   "source": [
    "X_train= np.array(list(map(prePos,X_train)))\n",
    "X_test= np.array(list(map(prePos,X_test)))\n",
    "X_validation= np.array(list(map(prePos,X_validation)))"
   ]
  },
  {
   "cell_type": "code",
   "execution_count": 15,
   "metadata": {},
   "outputs": [],
   "source": [
    "X_train = X_train.reshape(X_train.shape[0],X_train.shape[1],X_train.shape[2],1)\n",
    "X_test = X_test.reshape(X_test.shape[0],X_test.shape[1],X_test.shape[2],1)\n",
    "X_validation = X_validation.reshape(X_validation.shape[0],X_validation.shape[1],X_validation.shape[2],1)"
   ]
  },
  {
   "cell_type": "markdown",
   "metadata": {},
   "source": [
    "# Preparing the Data for the model"
   ]
  },
  {
   "cell_type": "code",
   "execution_count": 20,
   "metadata": {},
   "outputs": [],
   "source": [
    "from tensorflow.keras.preprocessing.image import ImageDataGenerator\n",
    "from keras.utils.np_utils import to_categorical"
   ]
  },
  {
   "cell_type": "code",
   "execution_count": null,
   "metadata": {},
   "outputs": [],
   "source": [
    "help(ImageDataGenerator)"
   ]
  },
  {
   "cell_type": "code",
   "execution_count": 17,
   "metadata": {},
   "outputs": [],
   "source": [
    "dataGen = ImageDataGenerator(width_shift_range=0.1,\n",
    "                             height_shift_range=0.1,\n",
    "                             zoom_range=0.2,\n",
    "                             shear_range=0.1,\n",
    "                             rotation_range=10)\n",
    "dataGen.fit(X_train)"
   ]
  },
  {
   "cell_type": "code",
   "execution_count": 22,
   "metadata": {},
   "outputs": [],
   "source": [
    "y_train = to_categorical(y_train,class_count)\n",
    "y_test = to_categorical(y_test,class_count)\n",
    "y_validation = to_categorical(y_validation,class_count)"
   ]
  },
  {
   "cell_type": "markdown",
   "metadata": {},
   "source": [
    "# Creating the Model"
   ]
  },
  {
   "cell_type": "code",
   "execution_count": 51,
   "metadata": {},
   "outputs": [],
   "source": [
    "from tensorflow.keras.models import Sequential\n",
    "from tensorflow.keras.layers import Activation, Dropout, Flatten, Dense, Conv2D, MaxPooling2D\n",
    "from keras.optimizers import Adam\n"
   ]
  },
  {
   "cell_type": "code",
   "execution_count": 46,
   "metadata": {},
   "outputs": [],
   "source": [
    "imageDimensions= (32,32,3)"
   ]
  },
  {
   "cell_type": "code",
   "execution_count": 49,
   "metadata": {},
   "outputs": [],
   "source": [
    "def myModel():\n",
    "    noOfFilters = 128\n",
    "    sizeOfFilter1 = (5,5)\n",
    "    sizeOfFilter2 = (3, 3)\n",
    "    sizeOfPool = (2,2)\n",
    "    noOfNodes= 512\n",
    " \n",
    "    model = Sequential()\n",
    "    model.add((Conv2D(noOfFilters,sizeOfFilter1,input_shape=(imageDimensions[0],imageDimensions[1],1),activation='relu')))\n",
    "    model.add((Conv2D(noOfFilters, sizeOfFilter1, activation='relu')))\n",
    "    model.add(MaxPooling2D(pool_size=sizeOfPool))\n",
    "    model.add((Conv2D(noOfFilters, sizeOfFilter2, activation='relu')))\n",
    "    model.add((Conv2D(noOfFilters//2, sizeOfFilter2, activation='relu')))\n",
    "    model.add((Conv2D(noOfFilters//2, sizeOfFilter2, activation='relu')))\n",
    "    model.add(MaxPooling2D(pool_size=sizeOfPool))\n",
    "    model.add(Dropout(0.2))\n",
    " \n",
    "    model.add(Flatten())\n",
    "    model.add(Dense(noOfNodes,activation='relu'))\n",
    "    model.add(Dropout(0.2))\n",
    "    model.add(Dense(class_count, activation='softmax'))\n",
    " \n",
    "    model.compile(Adam(lr=0.001),loss='categorical_crossentropy',metrics=['accuracy'])\n",
    "    return model"
   ]
  },
  {
   "cell_type": "code",
   "execution_count": 52,
   "metadata": {},
   "outputs": [
    {
     "name": "stdout",
     "output_type": "stream",
     "text": [
      "Model: \"sequential_10\"\n",
      "_________________________________________________________________\n",
      "Layer (type)                 Output Shape              Param #   \n",
      "=================================================================\n",
      "conv2d_35 (Conv2D)           (None, 28, 28, 128)       3328      \n",
      "_________________________________________________________________\n",
      "conv2d_36 (Conv2D)           (None, 24, 24, 128)       409728    \n",
      "_________________________________________________________________\n",
      "max_pooling2d_18 (MaxPooling (None, 12, 12, 128)       0         \n",
      "_________________________________________________________________\n",
      "conv2d_37 (Conv2D)           (None, 10, 10, 128)       147584    \n",
      "_________________________________________________________________\n",
      "conv2d_38 (Conv2D)           (None, 8, 8, 64)          73792     \n",
      "_________________________________________________________________\n",
      "conv2d_39 (Conv2D)           (None, 6, 6, 64)          36928     \n",
      "_________________________________________________________________\n",
      "max_pooling2d_19 (MaxPooling (None, 3, 3, 64)          0         \n",
      "_________________________________________________________________\n",
      "dropout_9 (Dropout)          (None, 3, 3, 64)          0         \n",
      "_________________________________________________________________\n",
      "flatten_7 (Flatten)          (None, 576)               0         \n",
      "_________________________________________________________________\n",
      "dense_13 (Dense)             (None, 512)               295424    \n",
      "_________________________________________________________________\n",
      "dropout_10 (Dropout)         (None, 512)               0         \n",
      "_________________________________________________________________\n",
      "dense_14 (Dense)             (None, 4)                 2052      \n",
      "=================================================================\n",
      "Total params: 968,836\n",
      "Trainable params: 968,836\n",
      "Non-trainable params: 0\n",
      "_________________________________________________________________\n"
     ]
    }
   ],
   "source": [
    "model= myModel()\n",
    "model.summary()"
   ]
  },
  {
   "cell_type": "code",
   "execution_count": 53,
   "metadata": {},
   "outputs": [
    {
     "name": "stdout",
     "output_type": "stream",
     "text": [
      "Epoch 1/20\n",
      "100/100 [==============================] - 18s 183ms/step - loss: 0.9328 - accuracy: 0.6230 - val_loss: 0.4549 - val_accuracy: 0.7959\n",
      "Epoch 2/20\n",
      "100/100 [==============================] - 19s 185ms/step - loss: 0.5022 - accuracy: 0.7969 - val_loss: 0.3710 - val_accuracy: 0.8237\n",
      "Epoch 3/20\n",
      "100/100 [==============================] - 19s 185ms/step - loss: 0.4395 - accuracy: 0.8159 - val_loss: 0.2565 - val_accuracy: 0.8563\n",
      "Epoch 4/20\n",
      "100/100 [==============================] - 22s 220ms/step - loss: 0.3873 - accuracy: 0.8381 - val_loss: 0.2494 - val_accuracy: 0.9094\n",
      "Epoch 5/20\n",
      "100/100 [==============================] - 22s 217ms/step - loss: 0.3293 - accuracy: 0.8619 - val_loss: 0.2705 - val_accuracy: 0.8539\n",
      "Epoch 6/20\n",
      "100/100 [==============================] - 22s 216ms/step - loss: 0.2877 - accuracy: 0.8748 - val_loss: 0.2308 - val_accuracy: 0.8829\n",
      "Epoch 7/20\n",
      "100/100 [==============================] - 21s 209ms/step - loss: 0.2415 - accuracy: 0.8986 - val_loss: 0.0855 - val_accuracy: 0.9903\n",
      "Epoch 8/20\n",
      "100/100 [==============================] - 21s 211ms/step - loss: 0.2427 - accuracy: 0.9100 - val_loss: 0.0975 - val_accuracy: 0.9553\n",
      "Epoch 9/20\n",
      "100/100 [==============================] - 21s 211ms/step - loss: 0.1804 - accuracy: 0.9255 - val_loss: 0.0757 - val_accuracy: 0.9758\n",
      "Epoch 10/20\n",
      "100/100 [==============================] - 21s 209ms/step - loss: 0.1812 - accuracy: 0.9361 - val_loss: 0.0861 - val_accuracy: 0.9783\n",
      "Epoch 11/20\n",
      "100/100 [==============================] - 21s 208ms/step - loss: 0.1558 - accuracy: 0.9419 - val_loss: 0.0820 - val_accuracy: 0.9638\n",
      "Epoch 12/20\n",
      "100/100 [==============================] - 21s 215ms/step - loss: 0.1123 - accuracy: 0.9613 - val_loss: 0.1355 - val_accuracy: 0.9469\n",
      "Epoch 13/20\n",
      "100/100 [==============================] - 22s 218ms/step - loss: 0.1540 - accuracy: 0.9487 - val_loss: 0.0694 - val_accuracy: 0.9807\n",
      "Epoch 14/20\n",
      "100/100 [==============================] - 21s 211ms/step - loss: 0.1173 - accuracy: 0.9612 - val_loss: 0.0781 - val_accuracy: 0.9771\n",
      "Epoch 15/20\n",
      "100/100 [==============================] - 21s 210ms/step - loss: 0.1044 - accuracy: 0.9637 - val_loss: 0.0286 - val_accuracy: 0.9928\n",
      "Epoch 16/20\n",
      "100/100 [==============================] - 21s 212ms/step - loss: 0.0876 - accuracy: 0.9762 - val_loss: 0.0194 - val_accuracy: 0.9964\n",
      "Epoch 17/20\n",
      "100/100 [==============================] - 21s 209ms/step - loss: 0.0776 - accuracy: 0.9706 - val_loss: 0.2205 - val_accuracy: 0.9191\n",
      "Epoch 18/20\n",
      "100/100 [==============================] - 23s 226ms/step - loss: 0.0609 - accuracy: 0.9768 - val_loss: 0.0253 - val_accuracy: 0.9915\n",
      "Epoch 19/20\n",
      "100/100 [==============================] - 21s 214ms/step - loss: 0.0637 - accuracy: 0.9787 - val_loss: 0.0670 - val_accuracy: 0.9807\n",
      "Epoch 20/20\n",
      "100/100 [==============================] - 22s 216ms/step - loss: 0.0777 - accuracy: 0.9756 - val_loss: 0.0078 - val_accuracy: 0.9976\n"
     ]
    }
   ],
   "source": [
    "## fitting the model\n",
    "history = model.fit_generator(dataGen.flow(X_train,y_train,\n",
    "                                 batch_size=16),\n",
    "                                 steps_per_epoch=100,\n",
    "                                 epochs=20,\n",
    "                                 validation_data=(X_validation,y_validation),\n",
    "                                 shuffle=1)"
   ]
  },
  {
   "cell_type": "code",
   "execution_count": 54,
   "metadata": {},
   "outputs": [
    {
     "name": "stdout",
     "output_type": "stream",
     "text": [
      "Test Score =  0.007817555218935013\n",
      "Test Accuracy = 0.9971014261245728\n"
     ]
    }
   ],
   "source": [
    "score = model.evaluate(X_test,y_test,verbose=0)\n",
    "print('Test Score = ',score[0])\n",
    "print('Test Accuracy =', score[1])"
   ]
  },
  {
   "cell_type": "code",
   "execution_count": 55,
   "metadata": {},
   "outputs": [],
   "source": [
    "# save the model\n",
    "model_json = model.to_json()\n",
    "with open(\"model-bw.json\", \"w\") as json_file:\n",
    "    json_file.write(model_json)\n",
    "model.save_weights('model-bw.h5')"
   ]
  },
  {
   "cell_type": "code",
   "execution_count": null,
   "metadata": {},
   "outputs": [],
   "source": []
  }
 ],
 "metadata": {
  "kernelspec": {
   "display_name": "Python 3",
   "language": "python",
   "name": "python3"
  },
  "language_info": {
   "codemirror_mode": {
    "name": "ipython",
    "version": 3
   },
   "file_extension": ".py",
   "mimetype": "text/x-python",
   "name": "python",
   "nbconvert_exporter": "python",
   "pygments_lexer": "ipython3",
   "version": "3.8.3"
  }
 },
 "nbformat": 4,
 "nbformat_minor": 4
}
